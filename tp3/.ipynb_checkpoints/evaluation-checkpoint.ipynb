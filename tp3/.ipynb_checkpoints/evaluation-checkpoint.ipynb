{
 "cells": [
  {
   "cell_type": "markdown",
   "metadata": {},
   "source": [
    "# Lab 1 Evaluation"
   ]
  },
  {
   "cell_type": "markdown",
   "metadata": {},
   "source": [
    "Names, Surnames, and Group : (to complete by 2 students)"
   ]
  },
  {
   "cell_type": "markdown",
   "metadata": {},
   "source": [
    "Kais SELLAMI, Cédric MARTIN (B2)"
   ]
  },
  {
   "cell_type": "markdown",
   "metadata": {},
   "source": [
    "In the following, we consider the  (binarized) Compas dataset that we studied in the Lab"
   ]
  },
  {
   "cell_type": "markdown",
   "metadata": {},
   "source": [
    "Q1: A decision tree configuration is a set of parameters that one can use to build decision trees. Propose 6 configurations that are likely to provide different topologies and caracteristics"
   ]
  },
  {
   "cell_type": "code",
   "execution_count": 7,
   "metadata": {},
   "outputs": [],
   "source": [
    "import csv\n",
    "import numpy as np\n",
    "from utils import load_from_csv\n",
    "from sklearn import tree\n",
    "\n",
    "train_examples, train_labels, features, prediction = load_from_csv(\"./compass.csv\")\n",
    "\n",
    "#Configurations that likely provide diffferent topologies:\n",
    "     # splitter        max depth          min sample leaf\n",
    "     # best              None                 1\n",
    "     # best               10                  50\n",
    "     # best               5                  500\n",
    "     # random            None                 1\n",
    "     # random            10                   50\n",
    "     # random             5                   500\n",
    "\n",
    "config = [['best', None, 1], ['best', 10, 50], ['best', 5, 500], ['random', None, 1], ['random', 10, 50], ['random', 5, 500]]"
   ]
  },
  {
   "cell_type": "markdown",
   "metadata": {},
   "source": [
    "Q2: Train a decision tree for each of the previous configurations on the full dataset"
   ]
  },
  {
   "cell_type": "code",
   "execution_count": 8,
   "metadata": {},
   "outputs": [],
   "source": [
    "decision_trees = []\n",
    "decision_trees_config = []\n",
    "for configuration in config:\n",
    "    clf = tree.DecisionTreeClassifier(splitter = configuration[0], max_depth = configuration[1], min_samples_leaf = configuration[2])\n",
    "    decision_trees_config.append(clf)\n",
    "    decision_trees.append(clf.fit(train_examples, train_labels))"
   ]
  },
  {
   "cell_type": "markdown",
   "metadata": {},
   "source": [
    "Q3: Propose an evaluation in terms of training and testing accuracies using $5$-cross validation on two decision trees that have different topologies"
   ]
  },
  {
   "cell_type": "code",
   "execution_count": 14,
   "metadata": {},
   "outputs": [
    {
     "name": "stdout",
     "output_type": "stream",
     "text": [
      "config 1 = best splitter, No max depth defined, 1 as min sample leaf \n",
      "\n",
      "config 2 = best splitter, max depth defined = 5, min sample leaf = 500\n",
      " \n",
      "\n",
      "   k index  Train config 1  Test config 1  Train config 3  Test config 3\n",
      "0        1        0.697250       0.647393        0.637743       0.624645\n",
      "1        2        0.694642       0.661611        0.636083       0.635071\n",
      "2        3        0.698198       0.645498        0.641773       0.636967\n",
      "3        4        0.696137       0.653700        0.641858       0.636622\n",
      "4        5        0.698744       0.629032        0.643043       0.631879\n"
     ]
    }
   ],
   "source": [
    "# we will display the accuracy on the 5-cross validation on the different decision trees :\n",
    "from sklearn.model_selection import KFold\n",
    "import pandas as pd\n",
    "\n",
    "kf = KFold(n_splits=5)\n",
    "results = []\n",
    "i = 1\n",
    "\n",
    "for x_train_index, x_test_index in kf.split(train_examples):\n",
    "    x_train, x_test = train_examples[x_train_index], train_examples[x_test_index]\n",
    "    y_train, y_test = train_labels[x_train_index], train_labels[x_test_index]\n",
    "    result = []\n",
    "    result.append(i)\n",
    "    for configuration in [decision_trees_config[0], decision_trees_config[2]]:\n",
    "        clf = configuration.fit(x_train, y_train)\n",
    "        result.append(clf.score(x_train, y_train))\n",
    "        result.append(clf.score(x_test, y_test))\n",
    "        \n",
    "    results.append(result)\n",
    "    \n",
    "    i+=1\n",
    "results_df = pd.DataFrame(results, columns=[\"k index\", \"Train config 1\", \"Test config 1\", \"Train config 3\", \"Test config 3\"])\n",
    "print(\"config 1 = best splitter, No max depth defined, 1 as min sample leaf \\n\")\n",
    "print(\"config 2 = best splitter, max depth defined = 5, min sample leaf = 500\\n \\n\")\n",
    "print(results_df)"
   ]
  },
  {
   "cell_type": "markdown",
   "metadata": {},
   "source": [
    "Q4: Propose an experimental study that shows the transition phase from underfitting to overfitting "
   ]
  },
  {
   "cell_type": "code",
   "execution_count": null,
   "metadata": {},
   "outputs": [],
   "source": []
  },
  {
   "cell_type": "markdown",
   "metadata": {},
   "source": [
    "Q5: Construct the confusion matrix on a particular good configuration (after explaining your choice)"
   ]
  },
  {
   "cell_type": "code",
   "execution_count": null,
   "metadata": {},
   "outputs": [],
   "source": []
  },
  {
   "cell_type": "markdown",
   "metadata": {},
   "source": [
    "Q6: Provide an evaluation of the fairness of the model based on the False Positive Rate"
   ]
  },
  {
   "cell_type": "code",
   "execution_count": null,
   "metadata": {},
   "outputs": [],
   "source": []
  }
 ],
 "metadata": {
  "kernelspec": {
   "display_name": "Python 3 (ipykernel)",
   "language": "python",
   "name": "python3"
  },
  "language_info": {
   "codemirror_mode": {
    "name": "ipython",
    "version": 3
   },
   "file_extension": ".py",
   "mimetype": "text/x-python",
   "name": "python",
   "nbconvert_exporter": "python",
   "pygments_lexer": "ipython3",
   "version": "3.12.4"
  }
 },
 "nbformat": 4,
 "nbformat_minor": 4
}
