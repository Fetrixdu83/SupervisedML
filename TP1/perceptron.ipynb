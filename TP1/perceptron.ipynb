{
 "cells": [
  {
   "cell_type": "markdown",
   "metadata": {
    "editable": false,
    "slideshow": {
     "slide_type": ""
    },
    "tags": []
   },
   "source": [
    "_In this notebook, every question will be marked by a blue border, and answers should be provided in cells in a green border. All code-related answers are preceded by a #TODO._"
   ]
  },
  {
   "cell_type": "markdown",
   "metadata": {},
   "source": [
    "## Students\n",
    "\n",
    " - SELLAMI Kais B2\n",
    " - MARTIN Cédric B2"
   ]
  },
  {
   "cell_type": "markdown",
   "metadata": {
    "editable": false,
    "slideshow": {
     "slide_type": ""
    },
    "tags": []
   },
   "source": [
    "## Objectives of the practical work\n",
    "\n",
    "The objective is to get hands on experience on the fundamental elements of neural networks:\n",
    " \n",
    " - perceptron architecture (linear regression)\n",
    " - loss function\n",
    " - empirical loss\n",
    " - gradient descent\n",
    "\n",
    "For this we will implement from scratch the data-structure and algorithms to train a perceptron. Note that slides related to the perceptron and neural networks in general are available on [moodle](https://moodle.insa-toulouse.fr/course/view.php?id=1790).\n",
    "\n",
    "## Dataset\n",
    "\n",
    "The objective of the regression is the prediction of the hydrodynamic performance of sailing yachts from dimensions and velocity.\n",
    "The **inputs** are linked to dimension and hydrodynamics characteristics:\n",
    "1. Longitudinal position of the center of buoyancy\n",
    "(*flottabilité*), adimensional.\n",
    "2. Prismatic coefficient, adimensional.\n",
    "3. Length-displacement ratio, adimensional.\n",
    "4. Beam -draught ratio ((*tiran d’eau*), adimensional.\n",
    "5. Length-beam ratio, adimensional.\n",
    "6. Froude number, adimensional\n",
    "\n",
    "**Target value/predicted value (Output)** = Residuary resistance per unit weight of\n",
    "displacement, adimensional"
   ]
  },
  {
   "cell_type": "code",
   "execution_count": 1058,
   "metadata": {
    "editable": false,
    "slideshow": {
     "slide_type": ""
    },
    "tags": []
   },
   "outputs": [],
   "source": [
    "# Import some useful libraries and functions\n",
    "\n",
    "import numpy as np\n",
    "import pandas\n",
    "\n",
    "def print_stats(dataset):\n",
    "    \n",
    "    \"\"\"Print statistics of a dataset\"\"\"\n",
    "    print(pandas.DataFrame(dataset).describe())\n"
   ]
  },
  {
   "cell_type": "code",
   "execution_count": 1059,
   "metadata": {
    "editable": false,
    "slideshow": {
     "slide_type": ""
    },
    "tags": []
   },
   "outputs": [
    {
     "name": "stdout",
     "output_type": "stream",
     "text": [
      "Dataset available\n"
     ]
    }
   ],
   "source": [
    "# Download the data set and place in the current folder (works on linux only)\n",
    "filename = 'yacht_hydrodynamics.data'\n",
    "\n",
    "import os.path\n",
    "import requests\n",
    "\n",
    "if not os.path.exists(filename):\n",
    "    print(\"Downloading dataset...\")\n",
    "    r = requests.get('https://arbimo.github.io/tp-supervised-learning/tp1/' + filename)\n",
    "    open(filename , 'wb').write(r.content)\n",
    "    \n",
    "print('Dataset available')"
   ]
  },
  {
   "cell_type": "markdown",
   "metadata": {
    "editable": false,
    "slideshow": {
     "slide_type": ""
    },
    "tags": []
   },
   "source": [
    "<!-- Question Start -->\n",
    "<div style=\"border: 1px solid blue; padding: 20px;border-radius: 5px;\">\n",
    "    \n",
    "### Explore the dataset\n",
    "\n",
    "- how many examples are there in the dataset?\n",
    "- how many features for each example?\n",
    "- what is the ground truth of the 10th example\n",
    "</div>\n",
    "<!-- Question End -->"
   ]
  },
  {
   "cell_type": "code",
   "execution_count": 1060,
   "metadata": {
    "editable": false,
    "slideshow": {
     "slide_type": ""
    },
    "tags": []
   },
   "outputs": [
    {
     "name": "stdout",
     "output_type": "stream",
     "text": [
      "f([-5.    0.6   4.78  4.24  3.15  0.35]) = 8.62\n",
      "f([-5.     0.565  4.77   3.99   3.15   0.15 ]) = 0.18\n",
      "f([-2.3    0.565  4.78   5.35   2.76   0.15 ]) = 0.29\n",
      "f([-5.     0.6    4.78   4.24   3.15   0.325]) = 6.2\n",
      "f([0.    0.53  4.78  3.75  3.15  0.175]) = 0.59\n"
     ]
    }
   ],
   "source": [
    "# load the dataset and slip between inputs (X) and ground truth (Y)\n",
    "dataset = np.genfromtxt(\"yacht_hydrodynamics.data\", delimiter='')\n",
    "X = dataset[:, :-1] # examples features -  all rows with all elements in rows except last one\n",
    "Y = dataset[:, -1]  # ground truth - last element in all rows\n",
    "\n",
    "# Print the first 5 examples\n",
    "for i in range(0,5):\n",
    "    print(f\"f({X[i]}) = {Y[i]}\")"
   ]
  },
  {
   "cell_type": "code",
   "execution_count": 1061,
   "metadata": {
    "editable": true,
    "slideshow": {
     "slide_type": ""
    },
    "tags": []
   },
   "outputs": [
    {
     "name": "stdout",
     "output_type": "stream",
     "text": [
      "Dataset statistics : \n",
      "Number of Features : 6\n",
      "Number of Exemple : 308\n",
      "Ground truth for 10th Exemple : 1.83\n",
      "[-5.    0.6   4.78  4.24  3.15  0.35]\n"
     ]
    }
   ],
   "source": [
    "# TODO : explore the dataset\n",
    "print (\"Dataset statistics : \")\n",
    "print (\"Number of Features :\", len(X[0]))\n",
    "print (\"Number of Exemple :\", len(X))\n",
    "print (\"Ground truth for 10th Exemple :\", Y[9])\n",
    "print (X[0])\n"
   ]
  },
  {
   "cell_type": "markdown",
   "metadata": {
    "editable": true,
    "raw_mimetype": "",
    "slideshow": {
     "slide_type": ""
    },
    "tags": []
   },
   "source": [
    "<!-- Answer Section Start -->\n",
    "<div style=\"border: 1px solid green; padding: 10px; margin-top: 10px; border-radius: 5px\">\n",
    "\n",
    "**Your answer here:**\n",
    "\n",
    "Number of Exemple : 308<p></p>\n",
    "Number of Features : 6 <p></p>\n",
    "Ground truth for 10th Exemple : 1.83\n",
    "\n",
    "\n",
    "\n",
    "\n",
    "\n",
    "\n",
    "</div>\n",
    "<!-- Answer Section End -->"
   ]
  },
  {
   "cell_type": "markdown",
   "metadata": {
    "editable": false,
    "slideshow": {
     "slide_type": ""
    },
    "tags": []
   },
   "source": [
    "<!-- Question Start -->\n",
    "<div style=\"border: 1px solid blue; padding: 20px;border-radius: 5px;\">\n",
    "The following command adds a column to the inputs.\n",
    "\n",
    "- what is in the value added this column?\n",
    "- why are we doing this?\n",
    "</div>\n",
    "<!-- Question End -->"
   ]
  },
  {
   "cell_type": "code",
   "execution_count": 1062,
   "metadata": {
    "editable": false,
    "slideshow": {
     "slide_type": ""
    },
    "tags": []
   },
   "outputs": [
    {
     "name": "stdout",
     "output_type": "stream",
     "text": [
      "           0           1           2           3           4           5  \\\n",
      "count  308.0  308.000000  308.000000  308.000000  308.000000  308.000000   \n",
      "mean     1.0   -2.381818    0.564136    4.788636    3.936818    3.206818   \n",
      "std      0.0    1.513219    0.023290    0.253057    0.548193    0.247998   \n",
      "min      1.0   -5.000000    0.530000    4.340000    2.810000    2.730000   \n",
      "25%      1.0   -2.400000    0.546000    4.770000    3.750000    3.150000   \n",
      "50%      1.0   -2.300000    0.565000    4.780000    3.955000    3.150000   \n",
      "75%      1.0   -2.300000    0.574000    5.100000    4.170000    3.510000   \n",
      "max      1.0    0.000000    0.600000    5.140000    5.350000    3.640000   \n",
      "\n",
      "                6  \n",
      "count  308.000000  \n",
      "mean     0.287500  \n",
      "std      0.100942  \n",
      "min      0.125000  \n",
      "25%      0.200000  \n",
      "50%      0.287500  \n",
      "75%      0.375000  \n",
      "max      0.450000  \n"
     ]
    }
   ],
   "source": [
    "X = np.insert(X, 0, np.ones((len(X))), axis= 1)\n",
    "print_stats(X)"
   ]
  },
  {
   "cell_type": "markdown",
   "metadata": {
    "editable": true,
    "slideshow": {
     "slide_type": ""
    },
    "tags": []
   },
   "source": [
    "<!-- Answer Section Start -->\n",
    "<div style=\"border: 1px solid green; padding: 10px; margin-top: 10px; border-radius: 5px\">\n",
    "\n",
    "**Your answer here:**\n",
    "\n",
    "The value in the column are all 1<p></p>\n",
    "We do this to add a bias\n",
    "\n",
    "\n",
    "\n",
    "\n",
    "</div>\n",
    "<!-- Answer Section End -->"
   ]
  },
  {
   "cell_type": "markdown",
   "metadata": {
    "editable": false,
    "slideshow": {
     "slide_type": ""
    },
    "tags": []
   },
   "source": [
    "## Creating the perceptron\n",
    "\n",
    "![Perceptron for regression](https://arbimo.github.io/tp-supervised-learning/2223-ae/tp1/perceptron-regression.png)\n",
    "\n",
    "We now want to define a perceptron, that is, a function of the form: \n",
    "\n",
    "$h_w(x) = w_0 + w_1 \\times x_1 + \\dots + w_n \\times x_n$\n",
    "\n",
    "<!-- Question Start -->\n",
    "<div style=\"border: 1px solid blue; padding: 20px;border-radius: 5px;\">\n",
    "    \n",
    "- Complete the code snippet below to:\n",
    "  - create the vector of weight `w`, initialize to arbitrary values (we suggest 0)\n",
    "  - implement the `h` function that evaluate an example based on the vector of weights\n",
    "  - check if this works on a few examples\n",
    "</div>\n",
    "<!-- Question End -->"
   ]
  },
  {
   "cell_type": "code",
   "execution_count": 1063,
   "metadata": {
    "editable": true,
    "slideshow": {
     "slide_type": ""
    },
    "tags": []
   },
   "outputs": [],
   "source": [
    "# TODO\n",
    "w = np.zeros(7) # initialize w to 0\n",
    "\n",
    "def h(w, x):\n",
    "    W = np.dot(x,w)\n",
    "    return W\n",
    "\n",
    "# print the ground truth and the evaluation of h_w on the first example\n"
   ]
  },
  {
   "cell_type": "markdown",
   "metadata": {
    "editable": false,
    "slideshow": {
     "slide_type": ""
    },
    "tags": []
   },
   "source": [
    "## Loss function\n",
    "<!-- Question Start -->\n",
    "<div style=\"border: 1px solid blue; padding: 20px;border-radius: 5px;\">\n",
    "    \n",
    "Complete the definiton of the loss function below such that, for a **single** example `x` with ground truth `y`, it returns the $L_2$ loss of $h_w$ on `x`.\n",
    "</div>\n",
    "<!-- Question End -->"
   ]
  },
  {
   "cell_type": "code",
   "execution_count": 1064,
   "metadata": {
    "editable": true,
    "slideshow": {
     "slide_type": ""
    },
    "tags": []
   },
   "outputs": [
    {
     "name": "stdout",
     "output_type": "stream",
     "text": [
      "loss(w,x,y) =  [7.4304400e+01 3.2400000e-02 8.4100000e-02 3.8440000e+01 3.4810000e-01\n",
      " 3.3124000e+00 3.1214569e+03 2.0250000e-01 1.1902500e+01 3.3489000e+00\n",
      " 1.0536516e+03 6.0516000e+00 6.4000000e-03 2.2290490e+02 1.8496000e+00\n",
      " 1.1985444e+03 1.5210000e-01 1.6281760e+02 1.1881000e+00 1.7161000e+00\n",
      " 1.3616100e+01 1.0725625e+03 9.2903040e+02 3.4225000e+00 1.2100000e-02\n",
      " 3.1024900e+01 4.0561960e+02 1.3972644e+03 6.8644000e+00 2.6936100e+01\n",
      " 3.8962564e+03 6.0840000e-01 4.2559690e+02 3.0976000e+00 1.1449000e+00\n",
      " 2.4649000e+00 3.0437289e+03 2.9268100e+01 5.1265600e+01 1.3363360e+02\n",
      " 5.6250000e-01 3.9816100e+01 4.9729000e+00 8.4681000e+00 7.6729000e+00\n",
      " 2.4010000e-01 5.8273960e+02 5.4289000e+00 2.2090000e-01 1.7108640e+02\n",
      " 2.0449000e+00 1.4376010e+02 6.2500000e-02 4.0960000e-01 4.2025000e+00\n",
      " 7.3960000e-01 6.7081000e+00 4.3560000e-01 6.4000000e-03 1.4440000e-01\n",
      " 8.0089000e+00 1.2702096e+03 1.8769000e+00 2.1160000e-01 2.5000000e-03\n",
      " 6.8644000e+00 1.3690000e-01 9.5481000e+00 4.0960000e-01 7.4529000e+00\n",
      " 2.8900000e-02 2.2090000e-01 1.8490000e-01 4.5796000e+02 9.2416000e+00\n",
      " 6.3202500e+01 5.7408160e+02 4.1656810e+02 1.0404000e+00 1.8851290e+02\n",
      " 1.4822500e+01 1.0240000e-01 1.3690000e+01 3.6100000e+00 1.1560000e-01\n",
      " 4.6656000e+00 2.5140196e+03 1.1222500e+01 5.9290000e-01 1.2250000e-01\n",
      " 1.3793796e+03 4.7089000e+00 4.9000000e-01 8.0089000e+00 3.8809000e+00\n",
      " 7.3960000e-01 1.6974400e+01 1.7139600e+01 3.3524100e+01 9.4090000e-01\n",
      " 1.8769000e+00 4.0441210e+02 1.9536400e+01 2.6936100e+01 1.6728100e+01\n",
      " 5.1984000e+00 1.1539609e+03 1.6000000e-01 2.4649000e+00 3.6000000e-03\n",
      " 9.5481000e+00 1.0982596e+03 4.4478810e+02 1.4161000e+00 1.8769000e+00\n",
      " 2.5361296e+03 8.2944000e+00 4.2250000e-01 5.0979600e+01 1.2250000e-01\n",
      " 1.6384000e+00 6.4641600e+01 5.7600000e-02 1.8961290e+02 8.1000000e-03\n",
      " 1.4402025e+03 3.8376810e+02 9.0540810e+02 4.0000000e-02 6.7600000e-02\n",
      " 2.5603600e+01 4.6268010e+02 2.5000000e-01 5.0552100e+01 3.8416000e+00\n",
      " 1.5376000e+00 7.4747560e+02 5.6400100e+01 2.1252100e+01 5.9907600e+01\n",
      " 1.5600010e+02 3.9204000e+00 8.2264900e+01 3.3872400e+01 5.1696100e+01\n",
      " 2.2500000e-02 4.0000000e-02 1.7222500e+01 3.6787240e+02 2.9702500e+01\n",
      " 2.4492601e+03 4.6268010e+02 1.8922500e+01 3.9601000e+00 3.0735936e+03\n",
      " 7.1824000e+00 8.9302500e+01 6.4480900e+01 3.2400000e-02 1.0201000e+00\n",
      " 2.2363441e+03 3.0691600e+01 2.2090000e-01 1.1539609e+03 5.4316900e+01\n",
      " 1.6000000e-03 2.4147396e+03 3.1877316e+03 4.7610000e-01 3.5521600e+01\n",
      " 1.2574116e+03 4.9000000e-01 8.8804000e+00 5.7600000e-02 5.3290000e-01\n",
      " 1.6900000e+00 1.4232490e+02 4.8356010e+02 2.5361296e+03 1.2257001e+03\n",
      " 6.8121000e+00 2.7889000e+00 8.4640000e-01 3.4225000e+00 3.8416000e+00\n",
      " 2.5600000e-02 1.5376000e+02 3.7636000e+00 2.8900000e-02 5.3592250e+02\n",
      " 1.5351210e+02 8.6490000e-01 1.4137600e+01 2.9408929e+03 3.9690000e-01\n",
      " 4.3722810e+02 2.1771556e+03 2.7029601e+03 1.6384000e+00 1.0824100e+01\n",
      " 2.4900100e+01 5.2900000e-02 3.7027225e+03 5.3130250e+02 1.6000000e-03\n",
      " 1.8835600e+01 2.6244000e+00 2.7225000e+00 6.0840000e-01 1.0000000e-02\n",
      " 9.0000000e-04 8.1000000e-03 1.6384000e+02 1.6537960e+02 1.9695844e+03\n",
      " 1.4531344e+03 7.1740900e+01 1.1236000e+00 1.4762250e+02 2.5704900e+01\n",
      " 2.2500000e-02 4.1656810e+02 1.2960000e-01 1.5920100e+01 4.0000000e-02\n",
      " 1.7089956e+03 2.5281000e+00 6.8062500e+01 6.3403240e+02 1.1764900e+01\n",
      " 1.5055290e+02 3.0250000e-01 2.8900000e-02 7.2900000e-02 1.9891600e+01\n",
      " 8.6490000e-01 2.8164249e+03 2.6601610e+02 8.6436000e+00 5.7600000e-02\n",
      " 1.0240000e-01 1.4137600e+01 1.5920100e+01 2.5600000e-02 6.8890000e-01\n",
      " 2.2212369e+03 1.7724100e+01 1.9360000e-01 1.2321000e+00 2.6522500e+03\n",
      " 1.6000000e-01 1.4400000e-02 4.9000000e-03 6.2410000e-01 1.5376000e+00\n",
      " 2.7772900e+01 1.3225000e+00 7.8400000e-02 1.4641000e+00 3.8809000e+00\n",
      " 1.1042329e+03 2.3328900e+01 2.5948836e+03 7.5342400e+01 1.0000000e-04\n",
      " 6.4480900e+01 4.4184040e+02 1.9488160e+02 6.2001000e+00 6.4000000e-03\n",
      " 6.1936900e+01 1.1957764e+03 1.2996000e+00 3.6000000e+01 1.0458756e+03\n",
      " 1.9909210e+02 5.8225690e+02 5.3290000e-01 1.4976900e+01 1.9448100e+01\n",
      " 2.3256250e+02 1.1902500e+03 1.2769000e+00 5.5460250e+02 2.0277760e+02\n",
      " 1.0732960e+02 3.9690000e-01 2.1344400e+01 1.3924000e+00 6.9169000e+00\n",
      " 1.2250000e-01 1.7447329e+03 2.6832400e+03 1.0093329e+03 7.6737600e+01\n",
      " 6.7600000e-02 1.2100000e-02 3.1360000e-01 1.6537960e+02 6.8558400e+01\n",
      " 2.6801329e+03 3.0976000e+00 1.6154410e+02 4.7059600e+01 4.2250000e-01\n",
      " 5.7760000e-01 8.0656000e+00 6.1465600e+01]\n"
     ]
    }
   ],
   "source": [
    "# TODO\n",
    "def loss(w, x, y):\n",
    "    return (h(w,x)-y)**2\n",
    "print(\"loss(w,x,y) = \", loss(w, X, Y))"
   ]
  },
  {
   "cell_type": "markdown",
   "metadata": {
    "editable": false,
    "slideshow": {
     "slide_type": ""
    },
    "tags": []
   },
   "source": [
    "## Empirical loss\n",
    "<!-- Question Start -->\n",
    "<div style=\"border: 1px solid blue; padding: 20px;border-radius: 5px;\">\n",
    "    \n",
    "Complete the function below to compute the empirical loss of $h_w$ on a **set** of examples $X$ with associated ground truths $Y$.\n",
    "</div>\n",
    "<!-- Question End -->"
   ]
  },
  {
   "cell_type": "code",
   "execution_count": 1065,
   "metadata": {
    "editable": true,
    "slideshow": {
     "slide_type": ""
    },
    "tags": []
   },
   "outputs": [
    {
     "name": "stdout",
     "output_type": "stream",
     "text": [
      "empirical loss =  339.24674642857144\n"
     ]
    }
   ],
   "source": [
    "# TODO\n",
    "def emp_loss(w, X, Y):\n",
    "    return np.mean(loss(w,X,Y))\n",
    "print(\"empirical loss = \", emp_loss(w, X, Y))"
   ]
  },
  {
   "cell_type": "markdown",
   "metadata": {
    "editable": false,
    "slideshow": {
     "slide_type": ""
    },
    "tags": []
   },
   "source": [
    "## Gradient update\n",
    "\n",
    "<!-- Question Start -->\n",
    "<div style=\"border: 1px solid blue; padding: 20px;border-radius: 5px;\">\n",
    "    \n",
    "A gradient update is of the form: $w \\gets w + dw$\n",
    "\n",
    "- Complete the function below so that it computes the $dw$ term (the 'update') based on a set of examples `(X, Y)` the step (`alpha`)\n",
    "\n",
    "(you can look at slide 18 of the perceptron lecture slides for an example)\n",
    "</div>\n",
    "<!-- Question End -->"
   ]
  },
  {
   "cell_type": "code",
   "execution_count": 1066,
   "metadata": {
    "editable": true,
    "slideshow": {
     "slide_type": ""
    },
    "tags": []
   },
   "outputs": [
    {
     "data": {
      "text/plain": [
       "array([ 0.00323257, -0.00756342,  0.00182051,  0.01547611,  0.01269435,\n",
       "        0.01036508,  0.00130996])"
      ]
     },
     "execution_count": 1066,
     "metadata": {},
     "output_type": "execute_result"
    }
   ],
   "source": [
    "# TODO\n",
    "def compute_update(w, X, Y, alpha):\n",
    "\n",
    "    return alpha * np.dot(Y- h(w,X), X)\n",
    "\n",
    "\n",
    "compute_update(w, X, Y, alpha = 10e-7)\n"
   ]
  },
  {
   "cell_type": "markdown",
   "metadata": {
    "editable": false,
    "slideshow": {
     "slide_type": ""
    },
    "tags": []
   },
   "source": [
    "## Gradient descent\n",
    "<!-- Question Start -->\n",
    "<div style=\"border: 1px solid blue; padding: 20px;border-radius: 5px;\">\n",
    "Now implement the gradient descent algorithm that will:\n",
    "\n",
    "- repeatedly apply an update the weights \n",
    "- stops when a max number of iterations is reached (do not consider early stopping for now)\n",
    "- returns the final vector of weights\n",
    "</div>\n",
    "<!-- Question End -->"
   ]
  },
  {
   "cell_type": "code",
   "execution_count": 1067,
   "metadata": {
    "editable": true,
    "slideshow": {
     "slide_type": ""
    },
    "tags": []
   },
   "outputs": [],
   "source": [
    "# TODO\n",
    "def descent(w_init, X, Y, alpha, max_iter):\n",
    "    w = w_init\n",
    "    for i in range(max_iter):\n",
    "        w += compute_update(w, X, Y, alpha)\n",
    "    return w\n"
   ]
  },
  {
   "cell_type": "markdown",
   "metadata": {
    "editable": false,
    "slideshow": {
     "slide_type": ""
    },
    "tags": []
   },
   "source": [
    "## Exploitation\n",
    "<!-- Question Start -->\n",
    "<div style=\"border: 1px solid blue; padding: 20px;border-radius: 5px;\">\n",
    "You gradient descent is now complete and you can exploit it to train your perceptron.\n",
    "\n",
    "- Train your perceptron to get a model.\n",
    "- Visualize the evolution of the loss on the training set. Has it converged?\n",
    "- Try training for several choices of `alpha` and `max_iter`. What seem like a reasonable choice?\n",
    "- What is the loss associated with the final model?\n",
    "- Is the final model the optimal one for a perceptron?\n",
    "</div>\n",
    "<!-- Question End -->"
   ]
  },
  {
   "cell_type": "code",
   "execution_count": 1068,
   "metadata": {
    "editable": true,
    "slideshow": {
     "slide_type": ""
    },
    "tags": []
   },
   "outputs": [
    {
     "name": "stdout",
     "output_type": "stream",
     "text": [
      "empirical loss for i = -7  =  233.54666571508594\n",
      "w =  [ 0.15526305 -0.34060817  0.08723445  0.74118756  0.60427698  0.49717536\n",
      "  0.08268246]\n",
      "empirical loss for i = -6  =  228.7348014142886\n",
      "w =  [ 0.21022896 -0.17194535  0.11470446  0.96699115  0.72762126  0.66113694\n",
      "  0.44026962]\n",
      "empirical loss for i = -5  =  220.036641317686\n",
      "w =  [0.31890362 0.16067587 0.14331884 1.09823935 0.36840143 0.82207219\n",
      " 3.83641291]\n",
      "empirical loss for i = -4  =  158.77736254993457\n",
      "w =  [ 0.65627602  0.19264705  0.08773677  0.6276117  -0.42696164 -0.16117787\n",
      " 32.83363884]\n",
      "empirical loss for i = -3  =  nan\n",
      "w =  [nan nan nan nan nan nan nan]\n",
      "empirical loss for i = -2  =  nan\n",
      "w =  [nan nan nan nan nan nan nan]\n",
      "empirical loss for i = -1  =  nan\n",
      "w =  [nan nan nan nan nan nan nan]\n",
      "10.0\n"
     ]
    },
    {
     "name": "stderr",
     "output_type": "stream",
     "text": [
      "C:\\Users\\Cedric\\AppData\\Local\\Temp\\ipykernel_24972\\830941064.py:5: RuntimeWarning: invalid value encountered in add\n",
      "  w += compute_update(w, X, Y, alpha)\n"
     ]
    }
   ],
   "source": [
    "# TODO\n",
    "for i in range(-7,0):\n",
    "    w = np.zeros(7) # reset w to 0\n",
    "    w = descent(w, X, Y,10**i,1000)\n",
    "    print(\"empirical loss for i =\",i,\" = \", emp_loss(w, X, Y))\n",
    "    print(\"w = \", w)\n",
    "\n",
    "print(1e1)"
   ]
  },
  {
   "cell_type": "markdown",
   "metadata": {
    "editable": true,
    "slideshow": {
     "slide_type": ""
    },
    "tags": []
   },
   "source": [
    "<!-- Answer Section Start -->\n",
    "<div style=\"border: 1px solid green; padding: 10px; margin-top: 10px; border-radius: 5px\">\n",
    "\n",
    "**Your answer here:**\n",
    "\n",
    "\n",
    "\n",
    "\n",
    "\n",
    "\n",
    "\n",
    "</div>\n",
    "<!-- Answer Section End -->"
   ]
  },
  {
   "cell_type": "code",
   "execution_count": 1069,
   "metadata": {
    "editable": true,
    "slideshow": {
     "slide_type": ""
    },
    "tags": []
   },
   "outputs": [
    {
     "data": {
      "image/png": "[encoded data removed]",
      "text/plain": [
       "<Figure size 640x480 with 1 Axes>"
      ]
     },
     "metadata": {},
     "output_type": "display_data"
    }
   ],
   "source": [
    "import matplotlib.pyplot as plt\n",
    "\n",
    "def plot_loss_evolution(w, X, Y, learning_rate, num_iterations):\n",
    "    \"\"\"\n",
    "    Plots the evolution of the loss during training\n",
    "    \n",
    "    Parameters:\n",
    "    - w: Initial weights\n",
    "    - X: Input features\n",
    "    - Y: True labels\n",
    "    - learning_rate: Learning rate for gradient descent\n",
    "    - num_iterations: Number of training iterations\n",
    "    \"\"\"\n",
    "    loss_history = []\n",
    "    w_current = w.copy()\n",
    "    \n",
    "    for i in range(num_iterations):\n",
    "        current_loss = emp_loss(w_current, X, Y)\n",
    "        loss_history.append(current_loss)\n",
    "        w_current = descent(w_current, X, Y, learning_rate, 1)\n",
    "    \n",
    "    plt.plot(loss_history, label=learning_rate)\n",
    "    plt.title('Loss Evolution During Training For %i' %num_iterations + ' Iterations')\n",
    "    plt.xlabel('Iteration')\n",
    "    plt.ylabel('Loss')\n",
    "    plt.legend()\n",
    "    plt.grid(True)\n",
    "    return loss_history\n",
    "\n",
    "\n",
    "w = np.zeros(7) # reset w to 0\n",
    "for i in [10**-4, 10**-5, 10**-6, 10**-7]:\n",
    "    plot_loss_evolution(w, X, Y,i,100000)\n"
   ]
  },
  {
   "cell_type": "markdown",
   "metadata": {
    "editable": false,
    "slideshow": {
     "slide_type": ""
    },
    "tags": []
   },
   "source": [
    "\n",
    "\n",
    "\n",
    "\n",
    "# Going further\n",
    "\n",
    "The following are extensions of the work previously done. If attempting them **do not modify** the code you produced above so that it can be evaluated.\n",
    "\n",
    "\n",
    "### Data normalization\n",
    "\n",
    "Different input features can have different units, and very different ranges.\n",
    "Within the perceptron computation, these values will be summed together.\n",
    "While gradient descent is normally able to deal with this (by adapting the weights of the perceptron for each input feature), standardizing the input features usually eases the perceptron training, and can sometimes improve accuracy.\n",
    "\n",
    "\n",
    "\n",
    "\n",
    "```python\n",
    "from sklearn.preprocessing import StandardScaler\n",
    "sc = StandardScaler(copy=True) \n",
    "X_normalized = sc.fit_transform(X)\n",
    "```\n",
    "<!-- Question Start -->\n",
    "<div style=\"border: 1px solid blue; padding: 20px;border-radius: 5px;\">\n",
    "Try applying a standard normalization to the input features (make sure that you keep a feature column that is always equal to 1). Is the convergence faster ? Try to quantify this speed-up. What about accuracy ?\n",
    "</div>\n",
    "<!-- Question End -->\n",
    "\n",
    "\n",
    "### Improvements to gradient descent\n",
    "\n",
    "<!-- Question Start -->\n",
    "<div style=\"border: 1px solid blue; padding: 20px;border-radius: 5px;\">\n",
    "Consider improving the gradient descent with:\n",
    "\n",
    " - Stochastic Gradient Descent (SGD), which means selecting a subset of the examples for training\n",
    " - Detection of convergence to halt the algorithm before the maximum number of iterations\n",
    "</div>\n",
    "<!-- Question End -->\n"
   ]
  },
  {
   "cell_type": "code",
   "execution_count": null,
   "metadata": {
    "editable": true,
    "slideshow": {
     "slide_type": ""
    },
    "tags": []
   },
   "outputs": [
    {
     "ename": "",
     "evalue": "",
     "output_type": "error",
     "traceback": [
      "\u001b[1;31mThe Kernel crashed while executing code in the current cell or a previous cell. \n",
      "\u001b[1;31mPlease review the code in the cell(s) to identify a possible cause of the failure. \n",
      "\u001b[1;31mClick <a href='https://aka.ms/vscodeJupyterKernelCrash'>here</a> for more info. \n",
      "\u001b[1;31mView Jupyter <a href='command:jupyter.viewOutput'>log</a> for further details."
     ]
    }
   ],
   "source": [
    "#TODO"
   ]
  },
  {
   "cell_type": "markdown",
   "metadata": {
    "editable": true,
    "slideshow": {
     "slide_type": ""
    },
    "tags": []
   },
   "source": [
    "<!-- Answer Section Start -->\n",
    "<div style=\"border: 1px solid green; padding: 10px; margin-top: 10px; border-radius: 5px\">\n",
    "\n",
    "**Your answer here:**\n",
    "\n",
    "\n",
    "\n",
    "\n",
    "\n",
    "\n",
    "\n",
    "</div>\n",
    "<!-- Answer Section End -->"
   ]
  },
  {
   "cell_type": "code",
   "execution_count": null,
   "metadata": {
    "editable": true,
    "slideshow": {
     "slide_type": ""
    },
    "tags": []
   },
   "outputs": [],
   "source": []
  }
 ],
 "metadata": {
  "kernelspec": {
   "display_name": "Python 3",
   "language": "python",
   "name": "python3"
  },
  "language_info": {
   "codemirror_mode": {
    "name": "ipython",
    "version": 3
   },
   "file_extension": ".py",
   "mimetype": "text/x-python",
   "name": "python",
   "nbconvert_exporter": "python",
   "pygments_lexer": "ipython3",
   "version": "3.13.2"
  }
 },
 "nbformat": 4,
 "nbformat_minor": 4
}
